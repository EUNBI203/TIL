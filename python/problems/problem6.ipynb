{
 "cells": [
  {
   "cell_type": "markdown",
   "metadata": {},
   "source": [
    "# 메소드 없는 세상 <1>\n",
    "\n",
    "> 알파벳으로 이뤄진 word를 입력받아 알파벳 대소문자를 서로 교환한 결과를 반환하는 `my_swapcase(word)`를 작성해주세요.\n",
    "\n",
    "**`.upper()`, `.lower()`, `swapcase()`는 사용하지 말아주세요.**\n",
    "\n",
    "**Tip! 문자와 숫자에는 특별한 관계가 있습니다. Google에서 아스키 코드를 참고하세요**\n",
    "\n",
    "```python\n",
    "# 예시\n",
    "print(my_swapcase('hello, World!')) # => HELLO, wORLD!\n",
    "print(my_swapcase('@_@')) # => @_@\n",
    "print(my_swapcase('2^3은 8이다!')) # => 2^3은 8이다!\n",
    "```"
   ]
  },
  {
   "cell_type": "code",
   "execution_count": 1,
   "metadata": {},
   "outputs": [],
   "source": [
    "# 아래에 코드를 작성해주세요.\n",
    "def my_swapcase(word):\n",
    "    result = ''\n",
    "    for char in word:\n",
    "        if 64 < ord(char) < 91:\n",
    "            result += chr(ord(char) + 32)\n",
    "        elif 96 < ord(char) < 123:\n",
    "            result += chr(ord(char) - 32)\n",
    "        else:\n",
    "            result += char\n",
    "    return result"
   ]
  },
  {
   "cell_type": "code",
   "execution_count": 2,
   "metadata": {},
   "outputs": [
    {
     "name": "stdout",
     "output_type": "stream",
     "text": [
      "HELLO, wORLD!\n",
      "@_@\n",
      "2^3은 8이다!\n"
     ]
    }
   ],
   "source": [
    "print(my_swapcase('hello, World!'))\n",
    "print(my_swapcase('@_@'))\n",
    "print(my_swapcase('2^3은 8이다!'))"
   ]
  },
  {
   "cell_type": "code",
   "execution_count": 7,
   "metadata": {},
   "outputs": [],
   "source": [
    "# 풀이\n",
    "def my_swapcase2(word):\n",
    "    # +32 대문자 -> 소문자\n",
    "    # -32 소문자 -> 대문자\n",
    "    result = ''\n",
    "    for char in word:\n",
    "        # 만약에 대문자라면,\n",
    "        if 65 <= ord(char) <= 90:\n",
    "            result += chr(ord(char) + 32)\n",
    "        # 만약에 소문자라면,\n",
    "        elif 97 <= ord(char) <= 122:\n",
    "            result += chr(ord(char) - 32)\n",
    "        # 알파벳이 아닐 때(else)\n",
    "        else:\n",
    "            result += char\n",
    "    return result"
   ]
  },
  {
   "cell_type": "code",
   "execution_count": 8,
   "metadata": {},
   "outputs": [
    {
     "name": "stdout",
     "output_type": "stream",
     "text": [
      "HELLO, wORLD!\n",
      "@_@\n",
      "2^3은 8이다!\n"
     ]
    }
   ],
   "source": [
    "print(my_swapcase2('hello, World!'))\n",
    "print(my_swapcase2('@_@'))\n",
    "print(my_swapcase2('2^3은 8이다!'))"
   ]
  },
  {
   "cell_type": "code",
   "execution_count": 1,
   "metadata": {},
   "outputs": [
    {
     "data": {
      "text/plain": [
       "97"
      ]
     },
     "execution_count": 1,
     "metadata": {},
     "output_type": "execute_result"
    }
   ],
   "source": [
    "ord('a') #=> 97"
   ]
  },
  {
   "cell_type": "code",
   "execution_count": 2,
   "metadata": {},
   "outputs": [
    {
     "data": {
      "text/plain": [
       "'a'"
      ]
     },
     "execution_count": 2,
     "metadata": {},
     "output_type": "execute_result"
    }
   ],
   "source": [
    "chr(97) #=> 'a'"
   ]
  },
  {
   "cell_type": "code",
   "execution_count": 3,
   "metadata": {},
   "outputs": [
    {
     "data": {
      "text/plain": [
       "55175"
      ]
     },
     "execution_count": 3,
     "metadata": {},
     "output_type": "execute_result"
    }
   ],
   "source": [
    "ord('힇')"
   ]
  },
  {
   "cell_type": "markdown",
   "metadata": {},
   "source": [
    "# 메소드 없는 세상 <2>\n",
    "\n",
    "> 우리는 문자열을 만들어 나갈 때, `.join(iterable)` 함수를 사용합니다. \n",
    ">\n",
    "> `.join(iterable)`이 생각나지 않을 때를 위해 직접 만들어보면서 감사함을 느껴봅시다.\n",
    ">\n",
    "> `my_join(target, word)`를 만들어 문자열을 반환해주세요.\n",
    ">\n",
    "> target은 바꿀 대상(iterable)이며, word는 합쳐지는 단어입니다. \n",
    "\n",
    "---\n",
    "\n",
    "\n",
    "예시)\n",
    "\n",
    "`''.join(a)` 와 `my_join(a, '')`은 같은 함수 호출입니다.\n",
    "\n",
    "```python\n",
    "print(my_join('배고파', '.')) # => 배.고.파\n",
    "print(my_join(['1', '2', '3'], '')) # => 123\n",
    "```"
   ]
  },
  {
   "cell_type": "code",
   "execution_count": 70,
   "metadata": {},
   "outputs": [],
   "source": [
    "# 아래에 코드를 작성해주세요.\n",
    "def my_join(target, word):\n",
    "    result = ''\n",
    "    count = 0\n",
    "    for char in target:\n",
    "        count += 1\n",
    "        result += char if count == len(target) else char + word\n",
    "    return result"
   ]
  },
  {
   "cell_type": "code",
   "execution_count": 71,
   "metadata": {},
   "outputs": [
    {
     "name": "stdout",
     "output_type": "stream",
     "text": [
      "배.고.파\n",
      "123\n"
     ]
    }
   ],
   "source": [
    "print(my_join('배고파', '.'))\n",
    "print(my_join(['1', '2', '3'], ''))"
   ]
  },
  {
   "cell_type": "code",
   "execution_count": 4,
   "metadata": {},
   "outputs": [],
   "source": [
    "# 풀이\n",
    "def my_join2(target, word):\n",
    "    result = ''\n",
    "    for char in target:\n",
    "        result += char + word\n",
    "    return result\n",
    "\n",
    "def my_join3(target, word):\n",
    "    result = ''\n",
    "    for idx, char in enumerate(target):\n",
    "        # 난 지금 마지막횟수인 것을 알고 싶다...\n",
    "        # => 반복문 돌 때마다 카운트, 마지막일 때 len(target)\n",
    "        if idx+1 == len(target):\n",
    "            result += char\n",
    "        else:\n",
    "            result += char + word\n",
    "    return result\n",
    "\n",
    "def my_join4(target, word):\n",
    "    result = ''\n",
    "    for char in target:\n",
    "        result += char + word\n",
    "    # 마지막이 해당 문자랑 같으면 삭제\n",
    "    return result[:-1] if result[-1] == word else result\n",
    "\n",
    "def my_join5(target, word):\n",
    "    result = target[0] # 첫 글자 초기화\n",
    "    for char in target[1:]: # .고, .파 이렇게 붙인다.\n",
    "        result += word + char\n",
    "    return result"
   ]
  },
  {
   "cell_type": "code",
   "execution_count": 5,
   "metadata": {},
   "outputs": [
    {
     "name": "stdout",
     "output_type": "stream",
     "text": [
      "배.고.파.\n",
      "123\n",
      "배.고.파\n",
      "123\n",
      "배.고.파\n",
      "123\n",
      "배.고.파\n",
      "123\n"
     ]
    }
   ],
   "source": [
    "print(my_join2('배고파', '.'))\n",
    "print(my_join2(['1', '2', '3'], ''))\n",
    "print(my_join3('배고파', '.'))\n",
    "print(my_join3(['1', '2', '3'], ''))\n",
    "print(my_join4('배고파', '.'))\n",
    "print(my_join4(['1', '2', '3'], ''))\n",
    "print(my_join5('배고파', '.'))\n",
    "print(my_join5(['1', '2', '3'], ''))"
   ]
  },
  {
   "cell_type": "markdown",
   "metadata": {},
   "source": [
    "#  가능한 적게 변경하기\n",
    "\n",
    "> 대문자와 소문자가 혼합되어 있는 문자열어 주어지며\n",
    ">\n",
    "> 다음의 기준에 따라서 문자열을 소문자 혹은 대문자로 변환하세요.\n",
    "\n",
    "\n",
    "*  가능한 적게 변경하세요.\n",
    "*  만약에 문자열의 대문자 혹은 소문자가 같다면, 문자열을 모두 소문자로 변경하세요.\n",
    "\n",
    "--- \n",
    "\n",
    "```python\n",
    "# 예시 입력) \n",
    "print(solve('coDe'))\n",
    "print(solve('CODe'))\n",
    "print(solve('coDE'))\n",
    "\n",
    "# 예시 출력)\n",
    "'code'\n",
    "'CODE'\n",
    "'code'\n",
    "```"
   ]
  },
  {
   "cell_type": "code",
   "execution_count": 17,
   "metadata": {},
   "outputs": [],
   "source": [
    "# 아래에 코드를 작성해주세요.\n",
    "def solve(word):\n",
    "    lower = 0\n",
    "    upper = 0\n",
    "    for char in word:\n",
    "        if 96 < ord(char) < 123:\n",
    "            lower += 1\n",
    "        elif 64 < ord(char) < 91:\n",
    "            upper += 1\n",
    "    if lower < upper:\n",
    "        return word.upper()\n",
    "    else:\n",
    "        return word.lower()"
   ]
  },
  {
   "cell_type": "code",
   "execution_count": 19,
   "metadata": {},
   "outputs": [
    {
     "name": "stdout",
     "output_type": "stream",
     "text": [
      "code\n",
      "CODE\n",
      "code\n"
     ]
    }
   ],
   "source": [
    "print(solve('coDe'))\n",
    "print(solve('CODe'))\n",
    "print(solve('coDE'))"
   ]
  },
  {
   "cell_type": "code",
   "execution_count": 22,
   "metadata": {},
   "outputs": [],
   "source": [
    "# 풀이\n",
    "def solve2(word):\n",
    "    count = sum(1 for char in word if char.isupper()) # 대문자 갯수\n",
    "    if count > (len(word)/2):  # 대소문자 밖에 없으니 2로 나눠서..\n",
    "        return word.upper()\n",
    "    else:\n",
    "        return word.lower()"
   ]
  },
  {
   "cell_type": "code",
   "execution_count": 23,
   "metadata": {},
   "outputs": [
    {
     "name": "stdout",
     "output_type": "stream",
     "text": [
      "code\n"
     ]
    }
   ],
   "source": [
    "print(solve2('coDe'))"
   ]
  },
  {
   "cell_type": "markdown",
   "metadata": {},
   "source": [
    "# 숨바꼭질\n",
    "\n",
    "> 숫자가 주어지면, 사용되지 않은 숫자를 프린트하세요.\n",
    "\n",
    "---\n",
    "\n",
    "```python\n",
    "# 예시)\n",
    "unused_digits(12, 34, 56, 78) # => '09'\n",
    "\n",
    "unused_digits(2015, 8, 26)  # => '3479'\n",
    "```\n",
    "\n",
    "\n",
    "**결과값은 정렬되어야 합니다.**\n",
    "\n"
   ]
  },
  {
   "cell_type": "code",
   "execution_count": 24,
   "metadata": {},
   "outputs": [],
   "source": [
    "# 아래에 코드를 작성해주세요.\n",
    "def unused_digits(*args):\n",
    "    numbers = ''\n",
    "    result = ''\n",
    "    integer = '0123456789'\n",
    "    for num1 in args:\n",
    "        numbers += str(num1)\n",
    "    for num2 in integer:\n",
    "        if not num2 in numbers:\n",
    "            result += num2\n",
    "    return result\n",
    "        "
   ]
  },
  {
   "cell_type": "code",
   "execution_count": 27,
   "metadata": {
    "scrolled": true
   },
   "outputs": [
    {
     "name": "stdout",
     "output_type": "stream",
     "text": [
      "09\n",
      "3479\n"
     ]
    }
   ],
   "source": [
    "print(unused_digits(12, 34, 56, 78))\n",
    "print(unused_digits(2015, 8, 26))"
   ]
  },
  {
   "cell_type": "code",
   "execution_count": 6,
   "metadata": {},
   "outputs": [],
   "source": [
    "# 풀이\n",
    "def unused_digits2(*numbers):\n",
    "    # 나중에 뺼 0~9까지를 문자로 바꿔놓고\n",
    "    result = list(map(str, range(10)))\n",
    "    \n",
    "    # 숫자를 문자 하나로 합치고\n",
    "    tmp = ''\n",
    "    for number in numbers:\n",
    "        tmp += str(number)\n",
    "        \n",
    "    # 리스트에서 하나씩 지운다. \n",
    "    for num in tmp:\n",
    "        if num in result:\n",
    "            result.remove(num)\n",
    "    return result\n",
    "\n",
    "def unused_digits3(*numbers):\n",
    "    result = set('1234567890')\n",
    "    for num in numbers:\n",
    "        result -= set(str(num))\n",
    "    return ''.join(sorted(result))"
   ]
  },
  {
   "cell_type": "code",
   "execution_count": 7,
   "metadata": {},
   "outputs": [
    {
     "name": "stdout",
     "output_type": "stream",
     "text": [
      "['0', '9']\n",
      "['3', '4', '7', '9']\n",
      "09\n",
      "3479\n"
     ]
    }
   ],
   "source": [
    "print(unused_digits2(12, 34, 56, 78))\n",
    "print(unused_digits2(2015, 8, 26))\n",
    "print(unused_digits3(12, 34, 56, 78))\n",
    "print(unused_digits3(2015, 8, 26))"
   ]
  },
  {
   "cell_type": "markdown",
   "metadata": {},
   "source": [
    "# 짝홀짝홀"
   ]
  },
  {
   "cell_type": "markdown",
   "metadata": {},
   "source": [
    "> n개의 양의 정수 리스트가 주어지면, 홀수와 짝수를 분리하고 각각의 조건에 맞게 홀수와 짝수를 \n",
    "정렬하세요.\n",
    "\n",
    "> 조건\n",
    "1. 짝수와 홀수가 번갈아 가면서 나오게 됩니다.\n",
    "2. 짝수가 먼저 시작됩니다.\n",
    "3. 짝수는 오름차순으로 홀수는 내림차순으로 되어야합니다.\n",
    "\n",
    "> 실습 입력 인자 조건\n",
    "1. 인자 리스트의 크기는 적어도 4이상입니다.\n",
    "2. 인자 리스트의 요소값으로 0은 존재하지 않습니다.\n",
    "3. 인자 리스트의 요소값이 반복될 수 있으나 출력할 때는 중복 값이 없습니다.\n",
    "\n",
    "```python\n",
    "# 예시) \n",
    "\n",
    "print(even_and_odd([7, 3 , 14 , 17]))\n",
    "# => [14, 17, 7, 3]\n",
    "\n",
    "print(even_and_odd([1, 3, 5, 7, 9, 11]))\n",
    "# => [11, 9, 7, 5, 3, 1]\n",
    "\n",
    "print(even_and_odd([1, 2, 2, 4, 4, 6, 6, 2004, 9, 11]))\n",
    "# => [2, 11, 4, 9, 6, 1, 2004]\n",
    "```"
   ]
  },
  {
   "cell_type": "code",
   "execution_count": 39,
   "metadata": {},
   "outputs": [],
   "source": [
    "# 여기에 코드를 작성하세요\n",
    "def even_and_odd(intList):\n",
    "    odd = []\n",
    "    even = []\n",
    "    result = []\n",
    "    if len(intList) < 4:\n",
    "        return '리스트의 크기는 4 이상이어야 합니다.'\n",
    "    for num in intList:\n",
    "        if num == 0:\n",
    "            return '리스트에 0이 포함되었습니다.'\n",
    "        if num % 2:\n",
    "            if not num in odd:\n",
    "                odd.append(num)\n",
    "        else:\n",
    "            if not num in even:\n",
    "                even.append(num)\n",
    "            \n",
    "    odd.sort(reverse=True)\n",
    "    even.sort()\n",
    "    \n",
    "    if len(odd) < len(even):\n",
    "        length, large = len(odd), even\n",
    "    else:\n",
    "        length, large = len(even), odd\n",
    "        \n",
    "    for idx in range(length):\n",
    "        result.append(even[idx])\n",
    "        result.append(odd[idx])\n",
    "    for idx in range(length, len(large)):\n",
    "        result.append(large[idx])\n",
    "        \n",
    "    return result"
   ]
  },
  {
   "cell_type": "code",
   "execution_count": 40,
   "metadata": {
    "scrolled": false
   },
   "outputs": [
    {
     "name": "stdout",
     "output_type": "stream",
     "text": [
      "[14, 17, 7, 3]\n",
      "[11, 9, 7, 5, 3, 1]\n",
      "[2, 11, 4, 9, 6, 1, 2004]\n"
     ]
    }
   ],
   "source": [
    "print(even_and_odd([7, 3, 14, 17]))\n",
    "print(even_and_odd([1, 3, 5, 7, 9, 11]))\n",
    "print(even_and_odd([1, 2, 2, 4, 4, 6, 6, 2004, 9, 11]))"
   ]
  },
  {
   "cell_type": "code",
   "execution_count": 8,
   "metadata": {},
   "outputs": [],
   "source": [
    "# 풀이\n",
    "def even_and_odd2(numbers):\n",
    "    # 1. 짝수/홀수 분리 - 정렬+중복제거\n",
    "    \n",
    "    # 중복제거하고 정렬하면서 짝수만.\n",
    "    even = [i for i in sorted((set(numbers))) if not i%2]\n",
    "    # 중복제거하고 정렬하면서 홀수만.\n",
    "    odd = [i for i in sorted((set(numbers))) if i%2][::-1] # 뒤집기\n",
    "    \n",
    "    # 2. 결과를 만든다.\n",
    "    # 짝수랑 홀수 길이 중 큰 것으로 돌린다. or 작은 것으로 돌린다.\n",
    "    if len(even) > len(odd): # 짝수가 더 기니까\n",
    "        tmp = even[len(odd):] # 홀수 길이 이후 것을 따로 저장\n",
    "        even = even[:len(odd)] # 홀수 길이만큼 저장\n",
    "    else:\n",
    "        tmp = odd[len(even):] # 짝수 길이 이후 것을 따로 저장\n",
    "        odd = odd[:len(even)] # 짝수 길이만큼 저장        \n",
    "    \n",
    "    # 결과통 \n",
    "    result = []\n",
    "    for even_num, odd_num in zip(even, odd):\n",
    "        result.append(even_num)\n",
    "        result.append(odd_num)\n",
    "        \n",
    "    return result + tmp"
   ]
  },
  {
   "cell_type": "code",
   "execution_count": 9,
   "metadata": {
    "scrolled": true
   },
   "outputs": [
    {
     "name": "stdout",
     "output_type": "stream",
     "text": [
      "[14, 17, 7, 3]\n",
      "[11, 9, 7, 5, 3, 1]\n",
      "[2, 11, 4, 9, 6, 1, 2004]\n"
     ]
    }
   ],
   "source": [
    "print(even_and_odd2([7, 3, 14, 17]))\n",
    "print(even_and_odd2([1, 3, 5, 7, 9, 11]))\n",
    "print(even_and_odd2([1, 2, 2, 4, 4, 6, 6, 2004, 9, 11]))"
   ]
  },
  {
   "cell_type": "code",
   "execution_count": 10,
   "metadata": {},
   "outputs": [],
   "source": [
    "a = [1, 2, 3]"
   ]
  },
  {
   "cell_type": "code",
   "execution_count": 11,
   "metadata": {
    "scrolled": true
   },
   "outputs": [
    {
     "data": {
      "text/plain": [
       "[3, 2, 1]"
      ]
     },
     "execution_count": 11,
     "metadata": {},
     "output_type": "execute_result"
    }
   ],
   "source": [
    "a[-1] # 마지막 것\n",
    "a[:-1] # 마지막 것만 빼고 \n",
    "a[::-1] # 뒤집자"
   ]
  },
  {
   "cell_type": "code",
   "execution_count": null,
   "metadata": {},
   "outputs": [],
   "source": [
    "# 정렬 및 중복 제거된 even odd\n",
    "while True:\n",
    "    if len(even) == 0 and len(odd) == 0:\n",
    "        break\n",
    "    if len(even) > 0:\n",
    "        result.append(even.pop())\n",
    "    if len(odd) > 0:\n",
    "        result.append(odd.pop())"
   ]
  },
  {
   "cell_type": "markdown",
   "metadata": {},
   "source": [
    "# 문자열 계산하기\n",
    "\n",
    "> 아래와 같이 문자열이 주어졌을 때, 바보같은 사용자를 위해 계산을 해주려고 한다.\n",
    ">\n",
    "> 이 계산기는 더하기와 빼기밖에 못한다.\n",
    ">\n",
    "> `calc(equation)`을 만들어봅시다.\n",
    "\n",
    "\n",
    "```python\n",
    "# 예시\n",
    "calc('123+2-124')\n",
    "#=> 1\n",
    "\n",
    "calc('-12+12-7979+9191')\n",
    "#=> 1212\n",
    "\n",
    "calc('+1-1+1-1+1-1+1-1+1-1+1-1+1-1+1-1+1-1+1-1+1-1+1-1+1-1+1-1+1-1+1-1')\n",
    "#=> 0\n",
    "```"
   ]
  },
  {
   "cell_type": "code",
   "execution_count": 41,
   "metadata": {},
   "outputs": [],
   "source": [
    "# 여기에 코드를 작성하세요.\n",
    "def calc(equation):\n",
    "    result = 0\n",
    "    n_sum = equation.split('+')\n",
    "    for nums in n_sum:\n",
    "        n_sub = nums.split('-')\n",
    "        result += int(n_sub[0]) if n_sub[0] else 0\n",
    "        for i in range(1, len(n_sub)):\n",
    "            result -= int(n_sub[i])\n",
    "    return result\n",
    "    "
   ]
  },
  {
   "cell_type": "code",
   "execution_count": 42,
   "metadata": {},
   "outputs": [
    {
     "name": "stdout",
     "output_type": "stream",
     "text": [
      "1\n",
      "1212\n",
      "0\n"
     ]
    }
   ],
   "source": [
    "print(calc('123+2-124'))\n",
    "print(calc('-12+12-7979+9191'))\n",
    "print(calc('+1-1+1-1+1-1+1-1+1-1+1-1+1-1+1-1+1-1+1-1+1-1+1-1+1-1+1-1+1-1+1-1'))"
   ]
  },
  {
   "cell_type": "code",
   "execution_count": 13,
   "metadata": {},
   "outputs": [],
   "source": [
    "# 풀이\n",
    "def calc2(equation):\n",
    "    # 결과 통 : 숫자\n",
    "    result = 0\n",
    "    # 임시 통... -> 부호를 만나기전까지 숫자들을 기록\n",
    "    tmp = ''\n",
    "    for char in equation:\n",
    "        if tmp and not char.isdecimal():  # if not char in '0123456789'\n",
    "            # 부호를 만난거니까.....\n",
    "            # result에 숫자를 더해서 만들고,\n",
    "            result += int(tmp)\n",
    "            tmp = ''\n",
    "            # tmp 초기화 -> 부호만\n",
    "#             tmp = char\n",
    "#         else:\n",
    "#             tmp += char\n",
    "        tmp += char\n",
    "    return result + int(tmp)"
   ]
  },
  {
   "cell_type": "code",
   "execution_count": 14,
   "metadata": {},
   "outputs": [
    {
     "name": "stdout",
     "output_type": "stream",
     "text": [
      "1\n",
      "1212\n",
      "0\n"
     ]
    }
   ],
   "source": [
    "print(calc2('123+2-124'))\n",
    "print(calc2('-12+12-7979+9191'))\n",
    "print(calc2('+1-1+1-1+1-1+1-1+1-1+1-1+1-1+1-1+1-1+1-1+1-1+1-1+1-1+1-1+1-1+1-1'))"
   ]
  }
 ],
 "metadata": {
  "kernelspec": {
   "display_name": "Python 3",
   "language": "python",
   "name": "python3"
  },
  "language_info": {
   "codemirror_mode": {
    "name": "ipython",
    "version": 3
   },
   "file_extension": ".py",
   "mimetype": "text/x-python",
   "name": "python",
   "nbconvert_exporter": "python",
   "pygments_lexer": "ipython3",
   "version": "3.7.3"
  },
  "latex_envs": {
   "LaTeX_envs_menu_present": true,
   "autoclose": false,
   "autocomplete": true,
   "bibliofile": "biblio.bib",
   "cite_by": "apalike",
   "current_citInitial": 1,
   "eqLabelWithNumbers": true,
   "eqNumInitial": 1,
   "hotkeys": {
    "equation": "Ctrl-E",
    "itemize": "Ctrl-I"
   },
   "labels_anchors": false,
   "latex_user_defs": false,
   "report_style_numbering": false,
   "user_envs_cfg": false
  },
  "toc": {
   "base_numbering": 1,
   "nav_menu": {},
   "number_sections": true,
   "sideBar": true,
   "skip_h1_title": false,
   "title_cell": "Table of Contents",
   "title_sidebar": "Contents",
   "toc_cell": false,
   "toc_position": {},
   "toc_section_display": true,
   "toc_window_display": false
  }
 },
 "nbformat": 4,
 "nbformat_minor": 2
}
